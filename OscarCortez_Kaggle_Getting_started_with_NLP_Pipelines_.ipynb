{
  "metadata": {
    "kernelspec": {
      "language": "python",
      "display_name": "Python 3",
      "name": "python3"
    },
    "language_info": {
      "name": "python",
      "version": "3.7.9",
      "mimetype": "text/x-python",
      "codemirror_mode": {
        "name": "ipython",
        "version": 3
      },
      "pygments_lexer": "ipython3",
      "nbconvert_exporter": "python",
      "file_extension": ".py"
    },
    "kaggle": {
      "accelerator": "none",
      "dataSources": [],
      "dockerImageVersionId": 30055,
      "isInternetEnabled": false,
      "language": "python",
      "sourceType": "notebook",
      "isGpuEnabled": false
    },
    "colab": {
      "provenance": [],
      "include_colab_link": true
    }
  },
  "nbformat_minor": 0,
  "nbformat": 4,
  "cells": [
    {
      "cell_type": "markdown",
      "metadata": {
        "id": "view-in-github",
        "colab_type": "text"
      },
      "source": [
        "<a href=\"https://colab.research.google.com/github/oscarecortez361/Computer-Vision-Course-Portfolio/blob/main/OscarCortez_Kaggle_Getting_started_with_NLP_Pipelines_.ipynb\" target=\"_parent\"><img src=\"https://colab.research.google.com/assets/colab-badge.svg\" alt=\"Open In Colab\"/></a>"
      ]
    },
    {
      "cell_type": "markdown",
      "source": [
        "# Natural Language Processing Pipelines\n",
        "\n",
        "This notebook is part of my learning journey of Udacity's Natural Language processing program, which I really helped me learn and excel basics and advanced NLP topics\n",
        "\n",
        "![nlp%20pipeline.jpg](attachment:nlp%20pipeline.jpg)\n",
        "\n",
        "The 3 stages of an NLP pipeline are: Text Processing > Feature Extraction > Modeling.\n",
        "\n",
        "- **Text Processing:** Take raw input text, clean it, normalize it, and convert it into a form that is suitable for feature extraction.\n",
        "- **Feature Extraction:** Extract and produce feature representations that are appropriate for the type of NLP task you are trying to accomplish and the type of model you are planning to use.\n",
        "- **Modeling:** Design a statistical or machine learning model, fit its parameters to training data, use an optimization procedure, and then use it to make predictions about unseen data.\n",
        "\n",
        "This process isn't always linear and may require additional steps."
      ],
      "metadata": {
        "id": "CNh1ah_40NjT"
      }
    },
    {
      "cell_type": "markdown",
      "source": [
        "# Text Processing\n",
        "The first part of this notebook will explore the steps involved in **text processing**, the first stage of the NLP pipeline."
      ],
      "metadata": {
        "id": "fb_6uu5z0NjU"
      }
    },
    {
      "cell_type": "markdown",
      "source": [
        "**Why Do We Need to Process Text?**\n",
        "\n",
        "- **Extracting plain text:** Textual data can come from a wide variety of sources: the web, PDFs, word documents, speech recognition systems, book scans, etc. Your goal is to extract plain text that is free of any source specific markup or constructs that are not relevant to your task.\n",
        "- **Reducing complexity:** Some features of our language like capitalization, punctuation, and common words such as a, of, and the, often help provide structure, but don't add much meaning. Sometimes it's best to remove them if that helps reduce the complexity of the procedures you want to apply later.\n",
        "\n",
        "You'll prepare text data from different sources with the following text processing steps:\n",
        "\n",
        "1. Cleaning to remove irrelevant items, such as HTML tags\n",
        "2. Normalizing by converting to all lowercase and removing punctuation\n",
        "3. Splitting text into words or tokens\n",
        "4. Removing words that are too common, also known as stop words\n",
        "5. Identifying different parts of speech and named entities\n",
        "6. Converting words into their dictionary forms, using stemming and lemmatization\n",
        "\n",
        "After performing these steps, your text will capture the essence of what was being conveyed in a form that is easier to work with."
      ],
      "metadata": {
        "id": "mfttgdhU0NjU"
      }
    },
    {
      "cell_type": "markdown",
      "source": [
        "> ## Cleaning: Udacity's Course Catalog\n",
        "\n",
        "Udacity's [course catalog page](https://www.udacity.com/courses/all)\n",
        "\n",
        "In this activity, you're going to extract the following information from each course listing on the page:\n",
        "1. The course name - e.g. \"Data Analyst\"\n",
        "2. The school the course belongs to - e.g. \"School of Data Science\""
      ],
      "metadata": {
        "id": "vG48g9cY0NjV"
      }
    },
    {
      "cell_type": "markdown",
      "source": [
        "### Step 1: Get text from Udacity's course catalog web page\n",
        "You can use the `requests` library to do this.\n",
        "\n",
        "Outputting all the javascript, CSS, and text may overload the space available to load this notebook, so we omit a print statement here."
      ],
      "metadata": {
        "id": "MqPJ-s410NjV"
      }
    },
    {
      "cell_type": "code",
      "source": [
        "# import statements\n",
        "import requests"
      ],
      "metadata": {
        "execution": {
          "iopub.status.busy": "2024-08-31T00:11:19.246483Z",
          "iopub.execute_input": "2024-08-31T00:11:19.246888Z",
          "iopub.status.idle": "2024-08-31T00:11:19.257844Z",
          "shell.execute_reply.started": "2024-08-31T00:11:19.246851Z",
          "shell.execute_reply": "2024-08-31T00:11:19.256905Z"
        },
        "trusted": true,
        "id": "TmykxuDY0NjV"
      },
      "execution_count": 1,
      "outputs": []
    },
    {
      "cell_type": "markdown",
      "source": [
        "### Step 2: Use BeautifulSoup to remove HTML tags"
      ],
      "metadata": {
        "id": "DnR452U00NjV"
      }
    },
    {
      "cell_type": "code",
      "source": [
        "# Installing bs4\n",
        "!pip install bs4"
      ],
      "metadata": {
        "execution": {
          "iopub.status.busy": "2024-08-31T00:08:49.058754Z",
          "iopub.execute_input": "2024-08-31T00:08:49.059175Z",
          "iopub.status.idle": "2024-08-31T00:11:19.236425Z",
          "shell.execute_reply.started": "2024-08-31T00:08:49.059140Z",
          "shell.execute_reply": "2024-08-31T00:11:19.234355Z"
        },
        "trusted": true,
        "colab": {
          "base_uri": "https://localhost:8080/",
          "height": 0
        },
        "id": "xHIICEB70NjW",
        "outputId": "3328199c-f0ab-4373-ec11-9f127fe577ff"
      },
      "execution_count": 2,
      "outputs": [
        {
          "output_type": "stream",
          "name": "stdout",
          "text": [
            "Collecting bs4\n",
            "  Downloading bs4-0.0.2-py2.py3-none-any.whl.metadata (411 bytes)\n",
            "Requirement already satisfied: beautifulsoup4 in /usr/local/lib/python3.10/dist-packages (from bs4) (4.12.3)\n",
            "Requirement already satisfied: soupsieve>1.2 in /usr/local/lib/python3.10/dist-packages (from beautifulsoup4->bs4) (2.6)\n",
            "Downloading bs4-0.0.2-py2.py3-none-any.whl (1.2 kB)\n",
            "Installing collected packages: bs4\n",
            "Successfully installed bs4-0.0.2\n"
          ]
        }
      ]
    },
    {
      "cell_type": "code",
      "source": [
        "# import statements\n",
        "from bs4 import BeautifulSoup"
      ],
      "metadata": {
        "execution": {
          "iopub.status.busy": "2024-08-31T00:11:39.338397Z",
          "iopub.status.idle": "2024-08-31T00:11:39.339025Z"
        },
        "trusted": true,
        "id": "A3f-FPzb0NjW"
      },
      "execution_count": 71,
      "outputs": []
    },
    {
      "cell_type": "code",
      "source": [
        "import requests\n",
        "r = requests.get('https://www.udacity.com/courses/all')\n"
      ],
      "metadata": {
        "id": "rlY01Bur02bZ"
      },
      "execution_count": 72,
      "outputs": []
    },
    {
      "cell_type": "code",
      "source": [
        "soup = BeautifulSoup(r.text, 'lxml')\n"
      ],
      "metadata": {
        "id": "enS6xNUU06lB"
      },
      "execution_count": 73,
      "outputs": []
    },
    {
      "cell_type": "code",
      "source": [
        "soup = BeautifulSoup(r.text,'lxml')"
      ],
      "metadata": {
        "trusted": true,
        "id": "TzzqyfYH0NjW"
      },
      "execution_count": 74,
      "outputs": []
    },
    {
      "cell_type": "code",
      "source": [
        "print(soup.get_text())"
      ],
      "metadata": {
        "_kg_hide-output": true,
        "trusted": true,
        "colab": {
          "base_uri": "https://localhost:8080/",
          "height": 0
        },
        "id": "0YJv6LtG0NjX",
        "outputId": "dfbe8b22-e2f5-434c-9cfa-2b7489d614e1"
      },
      "execution_count": 75,
      "outputs": [
        {
          "output_type": "stream",
          "name": "stdout",
          "text": [
            "Learn the Latest Tech Skills; Advance Your Career | UdacityLearnSchoolsArtificial IntelligenceAutonomous SystemsBusinessCareer ResourcesCloud ComputingCybersecurityData ScienceExecutive LeadershipProgrammingProduct ManagementPopularData Engineering with AWSIntroduction to ProgrammingC++Business AnalyticsData AnalystFeaturedDeep Reinforcement LearningComputer VisionNatural Language ProcessingData Structure and AlgorithmsSensor Fusion EngineerCatalogBusinessOverviewResourcesCompare PlansGovernmentCancelCancelLog InJoin for Freeall ProgramsSort by Most PopularMost PopularHighest RatedRecently Updatedall ProgramsSort Sort by Most PopularMost PopularHighest RatedRecently UpdatedSchool data scienceautonomous systemsartificial intelligencebusinessprogramming and developmentexecutive leadershipproduct managementcybersecuritycloud computingCareer resourcesSkill Type to SearchLevel discoveryfluencybeginnerintermediateadvancedDuration hoursdaysweeksmonthsType coursenanodegree programFilter & Sort Sort Sort by Most PopularMost PopularHighest RatedRecently UpdatedSchool data scienceautonomous systemsartificial intelligencebusinessprogramming and developmentexecutive leadershipproduct managementcybersecuritycloud computingCareer resourcesSkill Type to SearchLevel discoveryfluencybeginnerintermediateadvancedDuration hoursdaysweeksmonthsType coursenanodegree programFilter & Sort Data Analyst(1184)2 months, IntermediateIntroduction to Programming(1309)5 months, BeginnerDeep Learning(909)3 months, IntermediateAI Programming with Python(592)3 months, BeginnerDigital Marketing(957)3 months, BeginnerData Engineering with AWS(1132)2 months, IntermediateBusiness Analytics(1194)3 months, Beginner iOS Development with SwiftUI and SwiftData(225)3 months, IntermediateProgramming for Data Science with Python(807)2 months, BeginnerData Scientist(781)3 months, AdvancedReact(523)2 months, IntermediateProduct Manager(588)2 months, BeginnerC++ (729)3 months, IntermediateFull Stack Web Developer(449)3 months, IntermediateData Structures and Algorithms(498)2 months, IntermediateFront End Web Developer(802)3 months, IntermediateAI for Trading(496)4 months, AdvancedUser Experience(672)2 months, BeginnerNatural Language Processing(275)2 months, AdvancedCloud DevOps Engineer(416)2 months, IntermediateComputer Vision(450)2 months, AdvancedCloud Developer(398)3 months, IntermediateIntroduction to Self-Driving Cars(363)3 months, IntermediateDeep Reinforcement Learning(328)4 months, Advanced1 2 3 4 5 ...Page 1Page 2Page 3Page 4Page 5Page 6Page 7Page 8Page 9Page 10Page 11Page 12Page 13Page 14Page 15Page 16Page 17Page 18Page 19Page 20Page 21Page 22Page 23Page 2424 Discover our Skill CollectionsMachine Learning CoursesGenerative AI CoursesPython CoursesProduct Management CoursesSQL CoursesDiscovery Courses Google Cloud Digital LeaderC++ CoursesJavaScript CoursesData Engineering Courses Neural Networks and Deep Learning CoursesFluency Courses  CompanyAbout Us Why Udacity? Blog In the News Jobs at Udacity Become a Mentor Partner with Udacity ResourcesCatalog Help and FAQ Scholarships Udacity SchoolsSchool of Artificial Intelligence School of Autonomous Systems School of Business School of Cloud Computing School of Cybersecurity School of Data Science School of Executive Leadership School of Product Management School of Programming Featured ProgramsBusiness Analytics SQL AWS Cloud Architect Data Analyst Intro to Programming Digital Marketing Self Driving Car Engineer Only at UdacityArtificial Intelligence Deep Learning Digital Marketing Flying Car and Autonomous Flight Engineer Intro to Self-Driving Cars Machine Learning Engineer Robotics Software Engineer CompanyAbout Us Why Udacity? Blog In the News Jobs at Udacity Become a Mentor Partner with Udacity ResourcesCatalog Help and FAQ Scholarships Udacity SchoolsSchool of Artificial Intelligence School of Autonomous Systems School of Business School of Cloud Computing School of Cybersecurity School of Data Science School of Executive Leadership School of Product Management School of Programming Featured ProgramsBusiness Analytics SQL AWS Cloud Architect Data Analyst Intro to Programming Digital Marketing Self Driving Car Engineer Only at UdacityArtificial Intelligence Deep Learning Digital Marketing Flying Car and Autonomous Flight Engineer Intro to Self-Driving Cars Machine Learning Engineer Robotics Software Engineer Submit your email to stay updated on the latest in technologyBy clicking \"Subscribe,\" you agree to our Terms of Use and Privacy Policy.Subscribe To Newsletter© 2011-2024 Udacity, Inc. \"Nanodegree\" is a registered trademark of Udacity. © 2011-2024 Udacity, Inc.We use cookies and other data collection technologies to provide the best experience for our customers.Legal & Privacy Site Map \n"
          ]
        }
      ]
    },
    {
      "cell_type": "markdown",
      "source": [
        "### Step 3: Find all course summaries\n",
        "Use the BeautifulSoup's `find_all` method to select based on tag type and class name. Just like in the video, you can right click on the item, and click \"Inspect\" to view its html on a web page."
      ],
      "metadata": {
        "id": "AVKM-_HY0NjX"
      }
    },
    {
      "cell_type": "code",
      "source": [
        "# Find all course summaries\n",
        "summaries = soup.find_all(\"li\",{\"class\":\"catalog-card-list_catalogCardListItem__AZBy6\"})\n",
        "print('Number of Courses:', len(summaries))\n"
      ],
      "metadata": {
        "trusted": true,
        "colab": {
          "base_uri": "https://localhost:8080/",
          "height": 0
        },
        "id": "yab7sI310NjX",
        "outputId": "9b10444f-29a9-43e9-b361-a168403c98dd"
      },
      "execution_count": 76,
      "outputs": [
        {
          "output_type": "stream",
          "name": "stdout",
          "text": [
            "Number of Courses: 0\n"
          ]
        }
      ]
    },
    {
      "cell_type": "markdown",
      "source": [
        "### Step 4: Inspect the first summary to find selectors for the course name and school"
      ],
      "metadata": {
        "id": "g5bxAVVG0NjX"
      }
    },
    {
      "cell_type": "code",
      "source": [
        "print(summaries[0].prettify())"
      ],
      "metadata": {
        "trusted": true,
        "colab": {
          "base_uri": "https://localhost:8080/",
          "height": 141
        },
        "id": "PHtpsUce0NjX",
        "outputId": "54e88f7c-22ad-4f32-9f52-5f28c0116419"
      },
      "execution_count": 77,
      "outputs": [
        {
          "output_type": "error",
          "ename": "IndexError",
          "evalue": "list index out of range",
          "traceback": [
            "\u001b[0;31m---------------------------------------------------------------------------\u001b[0m",
            "\u001b[0;31mIndexError\u001b[0m                                Traceback (most recent call last)",
            "\u001b[0;32m<ipython-input-77-69ec48736791>\u001b[0m in \u001b[0;36m<cell line: 1>\u001b[0;34m()\u001b[0m\n\u001b[0;32m----> 1\u001b[0;31m \u001b[0mprint\u001b[0m\u001b[0;34m(\u001b[0m\u001b[0msummaries\u001b[0m\u001b[0;34m[\u001b[0m\u001b[0;36m0\u001b[0m\u001b[0;34m]\u001b[0m\u001b[0;34m.\u001b[0m\u001b[0mprettify\u001b[0m\u001b[0;34m(\u001b[0m\u001b[0;34m)\u001b[0m\u001b[0;34m)\u001b[0m\u001b[0;34m\u001b[0m\u001b[0;34m\u001b[0m\u001b[0m\n\u001b[0m",
            "\u001b[0;31mIndexError\u001b[0m: list index out of range"
          ]
        }
      ]
    },
    {
      "cell_type": "code",
      "source": [
        "# Find all course summaries\n",
        "summaries = soup.find_all(\"li\",{\"class\":\"catalog-card-list_catalogCardListItem__AZBy6\"})\n",
        "print('Number of Courses:', len(summaries))\n",
        "\n",
        "if summaries:  # Check if summaries is not empty\n",
        "    print(summaries[0].prettify())\n",
        "else:\n",
        "    print(\"No course summaries found.\")"
      ],
      "metadata": {
        "colab": {
          "base_uri": "https://localhost:8080/",
          "height": 0
        },
        "id": "4yY9tCK47ax1",
        "outputId": "f6251496-e7bf-4600-8623-f4666b5fd310"
      },
      "execution_count": 78,
      "outputs": [
        {
          "output_type": "stream",
          "name": "stdout",
          "text": [
            "Number of Courses: 0\n",
            "No course summaries found.\n"
          ]
        }
      ]
    },
    {
      "cell_type": "code",
      "source": [
        "print(summaries)\n"
      ],
      "metadata": {
        "colab": {
          "base_uri": "https://localhost:8080/",
          "height": 0
        },
        "id": "wQ-vtIdm1chC",
        "outputId": "36be31b5-a7e3-4bb6-f711-fb9bd038ec64"
      },
      "execution_count": 79,
      "outputs": [
        {
          "output_type": "stream",
          "name": "stdout",
          "text": [
            "[]\n"
          ]
        }
      ]
    },
    {
      "cell_type": "markdown",
      "source": [
        "Look for selectors contain the the courses title and school name text you want to extract. Then, use the select_one method on the summary object to pull out the html with those selectors. Afterwards, don't forget to do some extra cleaning to isolate the names (get rid of unnecessary html)."
      ],
      "metadata": {
        "id": "rIonQ2OV0NjX"
      }
    },
    {
      "cell_type": "code",
      "source": [
        "# Extract course title\n",
        "summaries[0].select_one(\"h2\").get_text().strip()"
      ],
      "metadata": {
        "trusted": true,
        "colab": {
          "base_uri": "https://localhost:8080/",
          "height": 159
        },
        "id": "6Y60chlE0NjX",
        "outputId": "24984254-c9ca-4a41-f5c4-2d86ca1da61a"
      },
      "execution_count": 19,
      "outputs": [
        {
          "output_type": "error",
          "ename": "IndexError",
          "evalue": "list index out of range",
          "traceback": [
            "\u001b[0;31m---------------------------------------------------------------------------\u001b[0m",
            "\u001b[0;31mIndexError\u001b[0m                                Traceback (most recent call last)",
            "\u001b[0;32m<ipython-input-19-24b5d5aa8767>\u001b[0m in \u001b[0;36m<cell line: 2>\u001b[0;34m()\u001b[0m\n\u001b[1;32m      1\u001b[0m \u001b[0;31m# Extract course title\u001b[0m\u001b[0;34m\u001b[0m\u001b[0;34m\u001b[0m\u001b[0m\n\u001b[0;32m----> 2\u001b[0;31m \u001b[0msummaries\u001b[0m\u001b[0;34m[\u001b[0m\u001b[0;36m0\u001b[0m\u001b[0;34m]\u001b[0m\u001b[0;34m.\u001b[0m\u001b[0mselect_one\u001b[0m\u001b[0;34m(\u001b[0m\u001b[0;34m\"h2\"\u001b[0m\u001b[0;34m)\u001b[0m\u001b[0;34m.\u001b[0m\u001b[0mget_text\u001b[0m\u001b[0;34m(\u001b[0m\u001b[0;34m)\u001b[0m\u001b[0;34m.\u001b[0m\u001b[0mstrip\u001b[0m\u001b[0;34m(\u001b[0m\u001b[0;34m)\u001b[0m\u001b[0;34m\u001b[0m\u001b[0;34m\u001b[0m\u001b[0m\n\u001b[0m",
            "\u001b[0;31mIndexError\u001b[0m: list index out of range"
          ]
        }
      ]
    },
    {
      "cell_type": "code",
      "source": [
        "# Find all course summaries\n",
        "summaries = soup.find_all(\"li\",{\"class\":\"catalog-card-list_catalogCardListItem__AZBy6\"})\n",
        "print('Number of Courses:', len(summaries))\n",
        "\n",
        "if summaries:  # Check if summaries is not empty\n",
        "    # Extract course title\n",
        "    print(summaries[0].select_one(\"h2\").get_text().strip())\n",
        "else:\n",
        "    print(\"No course summaries found.\")"
      ],
      "metadata": {
        "colab": {
          "base_uri": "https://localhost:8080/",
          "height": 0
        },
        "id": "lMwwosZC7iqc",
        "outputId": "56f10eab-913e-4362-8f47-b50d1547c51a"
      },
      "execution_count": 80,
      "outputs": [
        {
          "output_type": "stream",
          "name": "stdout",
          "text": [
            "Number of Courses: 0\n",
            "No course summaries found.\n"
          ]
        }
      ]
    },
    {
      "cell_type": "code",
      "source": [
        "# Extract school\n",
        "summaries[0].select_one(\"h3\").get_text().strip()"
      ],
      "metadata": {
        "trusted": true,
        "colab": {
          "base_uri": "https://localhost:8080/",
          "height": 159
        },
        "id": "juVAMxkn0NjX",
        "outputId": "eb00f902-33fa-4195-9802-0fcd159a2b45"
      },
      "execution_count": 91,
      "outputs": [
        {
          "output_type": "error",
          "ename": "IndexError",
          "evalue": "list index out of range",
          "traceback": [
            "\u001b[0;31m---------------------------------------------------------------------------\u001b[0m",
            "\u001b[0;31mIndexError\u001b[0m                                Traceback (most recent call last)",
            "\u001b[0;32m<ipython-input-91-a4f1163e436c>\u001b[0m in \u001b[0;36m<cell line: 2>\u001b[0;34m()\u001b[0m\n\u001b[1;32m      1\u001b[0m \u001b[0;31m# Extract school\u001b[0m\u001b[0;34m\u001b[0m\u001b[0;34m\u001b[0m\u001b[0m\n\u001b[0;32m----> 2\u001b[0;31m \u001b[0msummaries\u001b[0m\u001b[0;34m[\u001b[0m\u001b[0;36m0\u001b[0m\u001b[0;34m]\u001b[0m\u001b[0;34m.\u001b[0m\u001b[0mselect_one\u001b[0m\u001b[0;34m(\u001b[0m\u001b[0;34m\"h3\"\u001b[0m\u001b[0;34m)\u001b[0m\u001b[0;34m.\u001b[0m\u001b[0mget_text\u001b[0m\u001b[0;34m(\u001b[0m\u001b[0;34m)\u001b[0m\u001b[0;34m.\u001b[0m\u001b[0mstrip\u001b[0m\u001b[0;34m(\u001b[0m\u001b[0;34m)\u001b[0m\u001b[0;34m\u001b[0m\u001b[0;34m\u001b[0m\u001b[0m\n\u001b[0m",
            "\u001b[0;31mIndexError\u001b[0m: list index out of range"
          ]
        }
      ]
    },
    {
      "cell_type": "code",
      "source": [
        "# Find all course summaries\n",
        "summaries = soup.find_all(\"li\",{\"class\":\"catalog-card-list_catalogCardListItem__AZBy6\"})\n",
        "print('Number of Courses:', len(summaries))\n",
        "\n",
        "if summaries:  # Check if summaries is not empty\n",
        "    # Extract school\n",
        "    print(summaries[0].select_one(\"h3\").get_text().strip())\n",
        "else:\n",
        "    print(\"No course summaries found.\")"
      ],
      "metadata": {
        "colab": {
          "base_uri": "https://localhost:8080/",
          "height": 0
        },
        "id": "zJPh3Xzo7oaq",
        "outputId": "2cc3ed6f-5e20-414f-98b8-9dbe45d8f46f"
      },
      "execution_count": 92,
      "outputs": [
        {
          "output_type": "stream",
          "name": "stdout",
          "text": [
            "Number of Courses: 0\n",
            "No course summaries found.\n"
          ]
        }
      ]
    },
    {
      "cell_type": "code",
      "source": [
        "print(summaries)\n"
      ],
      "metadata": {
        "colab": {
          "base_uri": "https://localhost:8080/",
          "height": 0
        },
        "id": "Xv2E6DU_2ho5",
        "outputId": "889c34c1-9705-4877-85b8-5b8370e3e290"
      },
      "execution_count": 86,
      "outputs": [
        {
          "output_type": "stream",
          "name": "stdout",
          "text": [
            "[]\n"
          ]
        }
      ]
    },
    {
      "cell_type": "markdown",
      "source": [
        "### Step 5: Collect names and schools of ALL course listings\n",
        "Reuse your code from the previous step, but now in a loop to extract the name and school from every course summary in `summaries`!"
      ],
      "metadata": {
        "id": "1zTwujZE0NjX"
      }
    },
    {
      "cell_type": "code",
      "source": [
        "courses = []\n",
        "for summary in summaries:\n",
        "    # append name and school of each summary to courses list\n",
        "    title = summary.select_one(\"h2\").get_text().strip()\n",
        "    school = summary.select_one(\"h3\").get_text().strip()\n",
        "    courses.append((title, school))"
      ],
      "metadata": {
        "trusted": true,
        "id": "1b6YSKIL0NjX"
      },
      "execution_count": 93,
      "outputs": []
    },
    {
      "cell_type": "code",
      "source": [
        "# display results\n",
        "print(len(courses), \"course summaries found. Sample:\")\n",
        "courses[:5]"
      ],
      "metadata": {
        "trusted": true,
        "colab": {
          "base_uri": "https://localhost:8080/",
          "height": 0
        },
        "id": "AWeLQGkH0NjY",
        "outputId": "36f89e2c-aac8-41f1-fea6-224fa11ecb31"
      },
      "execution_count": 94,
      "outputs": [
        {
          "output_type": "stream",
          "name": "stdout",
          "text": [
            "0 course summaries found. Sample:\n"
          ]
        },
        {
          "output_type": "execute_result",
          "data": {
            "text/plain": [
              "[]"
            ]
          },
          "metadata": {},
          "execution_count": 94
        }
      ]
    },
    {
      "cell_type": "markdown",
      "source": [
        "# Normalization"
      ],
      "metadata": {
        "id": "09jMlCtP0NjY"
      }
    },
    {
      "cell_type": "code",
      "source": [
        "text = \"The first time you see The Second Renaissance it may look boring. Look at it at least twice and definitely watch part 2. It will change your view of the matrix. Are the human people the ones who started the war ? Is AI a bad thing ?\"\n",
        "print(text)"
      ],
      "metadata": {
        "trusted": true,
        "colab": {
          "base_uri": "https://localhost:8080/",
          "height": 0
        },
        "id": "7QIxKCOK0NjY",
        "outputId": "536ed2b4-0737-49b6-dbbe-932fcb4ad16b"
      },
      "execution_count": 95,
      "outputs": [
        {
          "output_type": "stream",
          "name": "stdout",
          "text": [
            "The first time you see The Second Renaissance it may look boring. Look at it at least twice and definitely watch part 2. It will change your view of the matrix. Are the human people the ones who started the war ? Is AI a bad thing ?\n"
          ]
        }
      ]
    },
    {
      "cell_type": "markdown",
      "source": [
        "### Case Normalization"
      ],
      "metadata": {
        "id": "KUKukD3-0NjY"
      }
    },
    {
      "cell_type": "code",
      "source": [
        "# Convert to lowercase\n",
        "text = text.lower()\n",
        "print(text)"
      ],
      "metadata": {
        "trusted": true,
        "colab": {
          "base_uri": "https://localhost:8080/",
          "height": 0
        },
        "id": "YnYBIPDE0NjY",
        "outputId": "194f76a5-3683-4629-c9c9-66d7925624ea"
      },
      "execution_count": 96,
      "outputs": [
        {
          "output_type": "stream",
          "name": "stdout",
          "text": [
            "the first time you see the second renaissance it may look boring. look at it at least twice and definitely watch part 2. it will change your view of the matrix. are the human people the ones who started the war ? is ai a bad thing ?\n"
          ]
        }
      ]
    },
    {
      "cell_type": "markdown",
      "source": [
        "### Punctuation Removal\n",
        "Use the `re` library to remove punctuation with a regular expression (regex). Feel free to referGoogle to get your regular expression. You can learn more about regex [here](https://docs.python.org/3/howto/regex.html)."
      ],
      "metadata": {
        "id": "-fnCzCgb0NjY"
      }
    },
    {
      "cell_type": "code",
      "source": [
        "# Remove punctuation characters\n",
        "import re\n",
        "text = re.sub(r\"[^a-zA-Z0-9]\",\" \",text)\n",
        "print(text)"
      ],
      "metadata": {
        "trusted": true,
        "colab": {
          "base_uri": "https://localhost:8080/",
          "height": 0
        },
        "id": "D12zl9Tz0NjY",
        "outputId": "9910392c-effe-457d-88fb-74b57210ffc2"
      },
      "execution_count": 97,
      "outputs": [
        {
          "output_type": "stream",
          "name": "stdout",
          "text": [
            "the first time you see the second renaissance it may look boring  look at it at least twice and definitely watch part 2  it will change your view of the matrix  are the human people the ones who started the war   is ai a bad thing  \n"
          ]
        }
      ]
    },
    {
      "cell_type": "markdown",
      "source": [
        "# Tokenization"
      ],
      "metadata": {
        "id": "lFSEYIGF0NjY"
      }
    },
    {
      "cell_type": "code",
      "source": [
        "import nltk\n",
        "nltk.download('punkt')"
      ],
      "metadata": {
        "trusted": true,
        "colab": {
          "base_uri": "https://localhost:8080/",
          "height": 0
        },
        "id": "7jjUZ2Mw0NjY",
        "outputId": "db93de88-89ba-4a46-f741-80a54593da2f"
      },
      "execution_count": 98,
      "outputs": [
        {
          "output_type": "stream",
          "name": "stderr",
          "text": [
            "[nltk_data] Downloading package punkt to /root/nltk_data...\n",
            "[nltk_data]   Package punkt is already up-to-date!\n"
          ]
        },
        {
          "output_type": "execute_result",
          "data": {
            "text/plain": [
              "True"
            ]
          },
          "metadata": {},
          "execution_count": 98
        }
      ]
    },
    {
      "cell_type": "code",
      "source": [
        "# import statements\n",
        "from nltk.tokenize import word_tokenize\n",
        "from nltk.tokenize import sent_tokenize"
      ],
      "metadata": {
        "trusted": true,
        "id": "t3iRoZ2n0NjY"
      },
      "execution_count": 99,
      "outputs": []
    },
    {
      "cell_type": "code",
      "source": [
        "text = \"Dr. Smith graduated from the University of Washington. He later started an analytics firm called Lux, which catered to enterprise customers.\"\n",
        "print(text)"
      ],
      "metadata": {
        "trusted": true,
        "colab": {
          "base_uri": "https://localhost:8080/",
          "height": 0
        },
        "id": "NumwFu3B0NjY",
        "outputId": "e49dbb27-82fd-491a-9372-fd314c89c7a1"
      },
      "execution_count": 100,
      "outputs": [
        {
          "output_type": "stream",
          "name": "stdout",
          "text": [
            "Dr. Smith graduated from the University of Washington. He later started an analytics firm called Lux, which catered to enterprise customers.\n"
          ]
        }
      ]
    },
    {
      "cell_type": "code",
      "source": [
        "# Split text into words using NLTK\n",
        "words = word_tokenize(text)\n",
        "print(words)"
      ],
      "metadata": {
        "trusted": true,
        "colab": {
          "base_uri": "https://localhost:8080/",
          "height": 0
        },
        "id": "x0fgdOWa0NjY",
        "outputId": "22b04248-efc5-48df-b5b5-f03a4e250e0e"
      },
      "execution_count": 101,
      "outputs": [
        {
          "output_type": "stream",
          "name": "stdout",
          "text": [
            "['Dr.', 'Smith', 'graduated', 'from', 'the', 'University', 'of', 'Washington', '.', 'He', 'later', 'started', 'an', 'analytics', 'firm', 'called', 'Lux', ',', 'which', 'catered', 'to', 'enterprise', 'customers', '.']\n"
          ]
        }
      ]
    },
    {
      "cell_type": "code",
      "source": [
        "# Split text into sentences using NLTK\n",
        "words = sent_tokenize(text)\n",
        "print(words)"
      ],
      "metadata": {
        "trusted": true,
        "colab": {
          "base_uri": "https://localhost:8080/",
          "height": 0
        },
        "id": "FEjuH9Bx0NjY",
        "outputId": "69a1ba20-327b-4f9f-89eb-935a244e1332"
      },
      "execution_count": 102,
      "outputs": [
        {
          "output_type": "stream",
          "name": "stdout",
          "text": [
            "['Dr. Smith graduated from the University of Washington.', 'He later started an analytics firm called Lux, which catered to enterprise customers.']\n"
          ]
        }
      ]
    },
    {
      "cell_type": "markdown",
      "source": [
        "# Stop Words"
      ],
      "metadata": {
        "id": "JL-Hm00e0NjY"
      }
    },
    {
      "cell_type": "code",
      "source": [
        "nltk.download('stopwords')"
      ],
      "metadata": {
        "execution": {
          "iopub.status.busy": "2024-08-31T00:08:30.993742Z",
          "iopub.status.idle": "2024-08-31T00:08:30.994495Z"
        },
        "trusted": true,
        "colab": {
          "base_uri": "https://localhost:8080/",
          "height": 0
        },
        "id": "ILe7CcFV0NjY",
        "outputId": "7db4cf4b-865d-4cff-ed31-61967a002c04"
      },
      "execution_count": 103,
      "outputs": [
        {
          "output_type": "stream",
          "name": "stderr",
          "text": [
            "[nltk_data] Downloading package stopwords to /root/nltk_data...\n",
            "[nltk_data]   Package stopwords is already up-to-date!\n"
          ]
        },
        {
          "output_type": "execute_result",
          "data": {
            "text/plain": [
              "True"
            ]
          },
          "metadata": {},
          "execution_count": 103
        }
      ]
    },
    {
      "cell_type": "code",
      "source": [
        "# import statements\n",
        "from nltk.corpus import stopwords\n",
        "import re\n",
        "from nltk.tokenize import word_tokenize\n"
      ],
      "metadata": {
        "execution": {
          "iopub.status.busy": "2024-08-31T00:08:30.998216Z",
          "iopub.status.idle": "2024-08-31T00:08:30.999004Z"
        },
        "trusted": true,
        "id": "0X4JaF8G0NjY"
      },
      "execution_count": 104,
      "outputs": []
    },
    {
      "cell_type": "code",
      "source": [
        "text = \"The first time you see The Second Renaissance it may look boring. Look at it at least twice and definitely watch part 2. It will change your view of the matrix. Are the human people the ones who started the war ? Is AI a bad thing ?\"\n",
        "print(text)"
      ],
      "metadata": {
        "execution": {
          "iopub.status.busy": "2024-08-31T00:08:31.000972Z",
          "iopub.status.idle": "2024-08-31T00:08:31.001725Z"
        },
        "trusted": true,
        "colab": {
          "base_uri": "https://localhost:8080/",
          "height": 0
        },
        "id": "3W_pqffL0NjY",
        "outputId": "b10287eb-9bc0-4d81-99e0-31f1f3a8c7a9"
      },
      "execution_count": 105,
      "outputs": [
        {
          "output_type": "stream",
          "name": "stdout",
          "text": [
            "The first time you see The Second Renaissance it may look boring. Look at it at least twice and definitely watch part 2. It will change your view of the matrix. Are the human people the ones who started the war ? Is AI a bad thing ?\n"
          ]
        }
      ]
    },
    {
      "cell_type": "code",
      "source": [
        "# Normalize text\n",
        "text = text.lower()\n",
        "text = re.sub(r\"[^a-zA-Z0-9]\",\" \",text)\n"
      ],
      "metadata": {
        "trusted": true,
        "id": "KC15c5ae0NjZ"
      },
      "execution_count": 106,
      "outputs": []
    },
    {
      "cell_type": "code",
      "source": [
        "# Tokenize text\n",
        "words = word_tokenize(text)\n",
        "print(words)"
      ],
      "metadata": {
        "trusted": true,
        "colab": {
          "base_uri": "https://localhost:8080/",
          "height": 0
        },
        "id": "JMlXQt6h0NjZ",
        "outputId": "da36a6f7-6189-4160-c270-07b09889cd50"
      },
      "execution_count": 107,
      "outputs": [
        {
          "output_type": "stream",
          "name": "stdout",
          "text": [
            "['the', 'first', 'time', 'you', 'see', 'the', 'second', 'renaissance', 'it', 'may', 'look', 'boring', 'look', 'at', 'it', 'at', 'least', 'twice', 'and', 'definitely', 'watch', 'part', '2', 'it', 'will', 'change', 'your', 'view', 'of', 'the', 'matrix', 'are', 'the', 'human', 'people', 'the', 'ones', 'who', 'started', 'the', 'war', 'is', 'ai', 'a', 'bad', 'thing']\n"
          ]
        }
      ]
    },
    {
      "cell_type": "code",
      "source": [
        "# remove stop wors\n",
        "words = [w for w in words if w not in stopwords.words(\"english\")]\n",
        "print(words)"
      ],
      "metadata": {
        "execution": {
          "iopub.status.busy": "2024-08-31T00:08:31.003266Z",
          "iopub.status.idle": "2024-08-31T00:08:31.004044Z"
        },
        "trusted": true,
        "colab": {
          "base_uri": "https://localhost:8080/",
          "height": 0
        },
        "id": "JY7HBA7R0Njc",
        "outputId": "311ca87e-2050-4681-9e0d-2e3c7a7e89ed"
      },
      "execution_count": 108,
      "outputs": [
        {
          "output_type": "stream",
          "name": "stdout",
          "text": [
            "['first', 'time', 'see', 'second', 'renaissance', 'may', 'look', 'boring', 'look', 'least', 'twice', 'definitely', 'watch', 'part', '2', 'change', 'view', 'matrix', 'human', 'people', 'ones', 'started', 'war', 'ai', 'bad', 'thing']\n"
          ]
        }
      ]
    },
    {
      "cell_type": "code",
      "source": [
        "print(stopwords.words(\"english\"))"
      ],
      "metadata": {
        "execution": {
          "iopub.status.busy": "2024-08-31T00:08:31.005404Z",
          "iopub.status.idle": "2024-08-31T00:08:31.006161Z"
        },
        "trusted": true,
        "colab": {
          "base_uri": "https://localhost:8080/",
          "height": 0
        },
        "id": "nKdcuW4x0Njc",
        "outputId": "b7a476d0-2cdc-4d0d-cacd-b3d7508b4329"
      },
      "execution_count": 109,
      "outputs": [
        {
          "output_type": "stream",
          "name": "stdout",
          "text": [
            "['i', 'me', 'my', 'myself', 'we', 'our', 'ours', 'ourselves', 'you', \"you're\", \"you've\", \"you'll\", \"you'd\", 'your', 'yours', 'yourself', 'yourselves', 'he', 'him', 'his', 'himself', 'she', \"she's\", 'her', 'hers', 'herself', 'it', \"it's\", 'its', 'itself', 'they', 'them', 'their', 'theirs', 'themselves', 'what', 'which', 'who', 'whom', 'this', 'that', \"that'll\", 'these', 'those', 'am', 'is', 'are', 'was', 'were', 'be', 'been', 'being', 'have', 'has', 'had', 'having', 'do', 'does', 'did', 'doing', 'a', 'an', 'the', 'and', 'but', 'if', 'or', 'because', 'as', 'until', 'while', 'of', 'at', 'by', 'for', 'with', 'about', 'against', 'between', 'into', 'through', 'during', 'before', 'after', 'above', 'below', 'to', 'from', 'up', 'down', 'in', 'out', 'on', 'off', 'over', 'under', 'again', 'further', 'then', 'once', 'here', 'there', 'when', 'where', 'why', 'how', 'all', 'any', 'both', 'each', 'few', 'more', 'most', 'other', 'some', 'such', 'no', 'nor', 'not', 'only', 'own', 'same', 'so', 'than', 'too', 'very', 's', 't', 'can', 'will', 'just', 'don', \"don't\", 'should', \"should've\", 'now', 'd', 'll', 'm', 'o', 're', 've', 'y', 'ain', 'aren', \"aren't\", 'couldn', \"couldn't\", 'didn', \"didn't\", 'doesn', \"doesn't\", 'hadn', \"hadn't\", 'hasn', \"hasn't\", 'haven', \"haven't\", 'isn', \"isn't\", 'ma', 'mightn', \"mightn't\", 'mustn', \"mustn't\", 'needn', \"needn't\", 'shan', \"shan't\", 'shouldn', \"shouldn't\", 'wasn', \"wasn't\", 'weren', \"weren't\", 'won', \"won't\", 'wouldn', \"wouldn't\"]\n"
          ]
        }
      ]
    },
    {
      "cell_type": "markdown",
      "source": [
        "## Parts of Speech (POS) Tagging\n"
      ],
      "metadata": {
        "id": "E3Q29Pxk0Njc"
      }
    },
    {
      "cell_type": "code",
      "source": [
        "nltk.download('words')\n",
        "nltk.download('punkt')\n",
        "nltk.download('averaged_perceptron_tagger')\n",
        "nltk.download('maxent_ne_chunker')"
      ],
      "metadata": {
        "execution": {
          "iopub.status.busy": "2024-08-31T00:08:31.007504Z",
          "iopub.status.idle": "2024-08-31T00:08:31.008251Z"
        },
        "trusted": true,
        "colab": {
          "base_uri": "https://localhost:8080/",
          "height": 0
        },
        "id": "Rr6saoD10Njd",
        "outputId": "8f32016b-1674-4619-e696-eac2cd52cf86"
      },
      "execution_count": 110,
      "outputs": [
        {
          "output_type": "stream",
          "name": "stderr",
          "text": [
            "[nltk_data] Downloading package words to /root/nltk_data...\n",
            "[nltk_data]   Package words is already up-to-date!\n",
            "[nltk_data] Downloading package punkt to /root/nltk_data...\n",
            "[nltk_data]   Package punkt is already up-to-date!\n",
            "[nltk_data] Downloading package averaged_perceptron_tagger to\n",
            "[nltk_data]     /root/nltk_data...\n",
            "[nltk_data]   Package averaged_perceptron_tagger is already up-to-\n",
            "[nltk_data]       date!\n",
            "[nltk_data] Downloading package maxent_ne_chunker to\n",
            "[nltk_data]     /root/nltk_data...\n",
            "[nltk_data]   Package maxent_ne_chunker is already up-to-date!\n"
          ]
        },
        {
          "output_type": "execute_result",
          "data": {
            "text/plain": [
              "True"
            ]
          },
          "metadata": {},
          "execution_count": 110
        }
      ]
    },
    {
      "cell_type": "code",
      "source": [
        "#  import statements\n",
        "from nltk import pos_tag\n",
        "from nltk import ne_chunk"
      ],
      "metadata": {
        "execution": {
          "iopub.status.busy": "2024-08-31T00:08:31.009903Z",
          "iopub.status.idle": "2024-08-31T00:08:31.010623Z"
        },
        "trusted": true,
        "id": "F-cFJ5yY0Njd"
      },
      "execution_count": 111,
      "outputs": []
    },
    {
      "cell_type": "code",
      "source": [
        "text = \"I always lie down to tell a lie.\""
      ],
      "metadata": {
        "execution": {
          "iopub.status.busy": "2024-08-31T00:08:31.012191Z",
          "iopub.status.idle": "2024-08-31T00:08:31.012987Z"
        },
        "trusted": true,
        "id": "SzCzzxJY0Njd"
      },
      "execution_count": 112,
      "outputs": []
    },
    {
      "cell_type": "code",
      "source": [
        "# tokenize text\n",
        "sentence = word_tokenize(text)\n",
        "\n",
        "# tag each word with part of speech\n",
        "pos_tag(sentence)"
      ],
      "metadata": {
        "execution": {
          "iopub.status.busy": "2024-08-31T00:08:31.014366Z",
          "iopub.status.idle": "2024-08-31T00:08:31.015123Z"
        },
        "trusted": true,
        "colab": {
          "base_uri": "https://localhost:8080/",
          "height": 0
        },
        "id": "GFz34YnO0Njd",
        "outputId": "768b67bb-d50c-4c4b-d69f-89417ac1c545"
      },
      "execution_count": 113,
      "outputs": [
        {
          "output_type": "execute_result",
          "data": {
            "text/plain": [
              "[('I', 'PRP'),\n",
              " ('always', 'RB'),\n",
              " ('lie', 'VBP'),\n",
              " ('down', 'RP'),\n",
              " ('to', 'TO'),\n",
              " ('tell', 'VB'),\n",
              " ('a', 'DT'),\n",
              " ('lie', 'NN'),\n",
              " ('.', '.')]"
            ]
          },
          "metadata": {},
          "execution_count": 113
        }
      ]
    },
    {
      "cell_type": "markdown",
      "source": [
        "## Named Entity Recognition (NER)"
      ],
      "metadata": {
        "id": "rVXEwxMY0Njd"
      }
    },
    {
      "cell_type": "code",
      "source": [
        "text = \"Antonio joined Udacity Inc. in California.\""
      ],
      "metadata": {
        "execution": {
          "iopub.status.busy": "2024-08-31T00:08:31.016494Z",
          "iopub.status.idle": "2024-08-31T00:08:31.017231Z"
        },
        "trusted": true,
        "id": "j-4CZ0QO0Njd"
      },
      "execution_count": 114,
      "outputs": []
    },
    {
      "cell_type": "code",
      "source": [
        "# tokenize, pos tag, then recognize named entities in text\n",
        "tree = ne_chunk(pos_tag(word_tokenize(text)))\n",
        "print(tree)"
      ],
      "metadata": {
        "execution": {
          "iopub.status.busy": "2024-08-31T00:08:32.092219Z",
          "iopub.execute_input": "2024-08-31T00:08:32.092619Z",
          "iopub.status.idle": "2024-08-31T00:08:32.108762Z",
          "shell.execute_reply.started": "2024-08-31T00:08:32.092582Z",
          "shell.execute_reply": "2024-08-31T00:08:32.107349Z"
        },
        "trusted": true,
        "colab": {
          "base_uri": "https://localhost:8080/",
          "height": 0
        },
        "id": "5MEwPwSo0Njd",
        "outputId": "144c63f7-0327-4f48-92bd-e2423a137dbf"
      },
      "execution_count": 115,
      "outputs": [
        {
          "output_type": "stream",
          "name": "stdout",
          "text": [
            "(S\n",
            "  (PERSON Antonio/NNP)\n",
            "  joined/VBD\n",
            "  (ORGANIZATION Udacity/NNP Inc./NNP)\n",
            "  in/IN\n",
            "  (GPE California/NNP)\n",
            "  ./.)\n"
          ]
        }
      ]
    },
    {
      "cell_type": "markdown",
      "source": [
        "## Sentence Parsing"
      ],
      "metadata": {
        "id": "yleKt_kG0Njd"
      }
    },
    {
      "cell_type": "code",
      "source": [
        "# Define a custom grammar\n",
        "my_grammar = nltk.CFG.fromstring(\"\"\"\n",
        "S -> NP VP\n",
        "PP -> P NP\n",
        "NP -> Det N | Det N PP | 'I'\n",
        "VP -> V NP | VP PP\n",
        "Det -> 'an' | 'my'\n",
        "N -> 'elephant' | 'pajamas'\n",
        "V -> 'shot'\n",
        "P -> 'in'\n",
        "\"\"\")\n",
        "parser = nltk.ChartParser(my_grammar)"
      ],
      "metadata": {
        "trusted": true,
        "id": "opHHiFTS0Njd"
      },
      "execution_count": 116,
      "outputs": []
    },
    {
      "cell_type": "code",
      "source": [
        "# Parse a sentence\n",
        "sentence = word_tokenize(\"I shot an elephant in my pajamas\")\n",
        "for tree in parser.parse(sentence):\n",
        "    print(tree)"
      ],
      "metadata": {
        "trusted": true,
        "colab": {
          "base_uri": "https://localhost:8080/",
          "height": 0
        },
        "id": "QFAUQ07j0Njd",
        "outputId": "8db5a901-1eb6-44a9-d21b-aa8917749b72"
      },
      "execution_count": 117,
      "outputs": [
        {
          "output_type": "stream",
          "name": "stdout",
          "text": [
            "(S\n",
            "  (NP I)\n",
            "  (VP\n",
            "    (VP (V shot) (NP (Det an) (N elephant)))\n",
            "    (PP (P in) (NP (Det my) (N pajamas)))))\n",
            "(S\n",
            "  (NP I)\n",
            "  (VP\n",
            "    (V shot)\n",
            "    (NP (Det an) (N elephant) (PP (P in) (NP (Det my) (N pajamas))))))\n"
          ]
        }
      ]
    },
    {
      "cell_type": "markdown",
      "source": [
        "## Stemming and Lemmatization\n"
      ],
      "metadata": {
        "id": "fsuVfWMz0Njd"
      }
    },
    {
      "cell_type": "code",
      "source": [
        "nltk.download('wordnet') # download for lemmatization"
      ],
      "metadata": {
        "trusted": true,
        "colab": {
          "base_uri": "https://localhost:8080/",
          "height": 0
        },
        "id": "zXqwjis50Njd",
        "outputId": "4e36e8a0-a6ba-425c-a470-94dc8c3b34dd"
      },
      "execution_count": 118,
      "outputs": [
        {
          "output_type": "stream",
          "name": "stderr",
          "text": [
            "[nltk_data] Downloading package wordnet to /root/nltk_data...\n",
            "[nltk_data]   Package wordnet is already up-to-date!\n"
          ]
        },
        {
          "output_type": "execute_result",
          "data": {
            "text/plain": [
              "True"
            ]
          },
          "metadata": {},
          "execution_count": 118
        }
      ]
    },
    {
      "cell_type": "code",
      "source": [
        "text = \"The first time you see The Second Renaissance it may look boring. Look at it at least twice and definitely watch part 2. It will change your view of the matrix. Are the human people the ones who started the war ? Is AI a bad thing ?\"\n",
        "\n",
        "# Normalize text\n",
        "text = re.sub(r\"[^a-zA-Z0-9]\", \" \", text.lower())\n",
        "\n",
        "# Tokenize text\n",
        "words = text.split()\n",
        "print(words)"
      ],
      "metadata": {
        "trusted": true,
        "colab": {
          "base_uri": "https://localhost:8080/",
          "height": 0
        },
        "id": "IX6pUSiV0Njd",
        "outputId": "c77355b3-3337-4f04-8ba8-97685bb0122c"
      },
      "execution_count": 119,
      "outputs": [
        {
          "output_type": "stream",
          "name": "stdout",
          "text": [
            "['the', 'first', 'time', 'you', 'see', 'the', 'second', 'renaissance', 'it', 'may', 'look', 'boring', 'look', 'at', 'it', 'at', 'least', 'twice', 'and', 'definitely', 'watch', 'part', '2', 'it', 'will', 'change', 'your', 'view', 'of', 'the', 'matrix', 'are', 'the', 'human', 'people', 'the', 'ones', 'who', 'started', 'the', 'war', 'is', 'ai', 'a', 'bad', 'thing']\n"
          ]
        }
      ]
    },
    {
      "cell_type": "code",
      "source": [
        "# Remove stop words\n",
        "words = [w for w in words if w not in stopwords.words(\"english\")]\n",
        "print(words)"
      ],
      "metadata": {
        "trusted": true,
        "colab": {
          "base_uri": "https://localhost:8080/",
          "height": 0
        },
        "id": "g-Bfxc2x0Njd",
        "outputId": "eb3c398e-3ee4-4c23-9ff0-e7fed30ac4ac"
      },
      "execution_count": 120,
      "outputs": [
        {
          "output_type": "stream",
          "name": "stdout",
          "text": [
            "['first', 'time', 'see', 'second', 'renaissance', 'may', 'look', 'boring', 'look', 'least', 'twice', 'definitely', 'watch', 'part', '2', 'change', 'view', 'matrix', 'human', 'people', 'ones', 'started', 'war', 'ai', 'bad', 'thing']\n"
          ]
        }
      ]
    },
    {
      "cell_type": "markdown",
      "source": [
        "### Stemming"
      ],
      "metadata": {
        "id": "ygkgtsXg0Nje"
      }
    },
    {
      "cell_type": "code",
      "source": [
        "from nltk.stem.porter import PorterStemmer\n",
        "\n",
        "# Reduce words to their stems\n",
        "stemmed = [PorterStemmer().stem(w) for w in words]\n",
        "print(stemmed)"
      ],
      "metadata": {
        "trusted": true,
        "colab": {
          "base_uri": "https://localhost:8080/",
          "height": 0
        },
        "id": "O5YEJnRv0Nje",
        "outputId": "b66fd1e7-ffa4-4fbc-89c5-fa03b78ae8b7"
      },
      "execution_count": 121,
      "outputs": [
        {
          "output_type": "stream",
          "name": "stdout",
          "text": [
            "['first', 'time', 'see', 'second', 'renaiss', 'may', 'look', 'bore', 'look', 'least', 'twice', 'definit', 'watch', 'part', '2', 'chang', 'view', 'matrix', 'human', 'peopl', 'one', 'start', 'war', 'ai', 'bad', 'thing']\n"
          ]
        }
      ]
    },
    {
      "cell_type": "markdown",
      "source": [
        "### Lemmatization"
      ],
      "metadata": {
        "id": "mQpmKqwT0Nje"
      }
    },
    {
      "cell_type": "code",
      "source": [
        "from nltk.stem.wordnet import WordNetLemmatizer\n",
        "\n",
        "# Reduce words to their root form\n",
        "lemmed = [WordNetLemmatizer().lemmatize(w) for w in words]\n",
        "print(lemmed)"
      ],
      "metadata": {
        "trusted": true,
        "colab": {
          "base_uri": "https://localhost:8080/",
          "height": 0
        },
        "id": "KuhWg-5G0Nje",
        "outputId": "bc9e2b14-70e2-4ed0-c97f-df575179a392"
      },
      "execution_count": 122,
      "outputs": [
        {
          "output_type": "stream",
          "name": "stdout",
          "text": [
            "['first', 'time', 'see', 'second', 'renaissance', 'may', 'look', 'boring', 'look', 'least', 'twice', 'definitely', 'watch', 'part', '2', 'change', 'view', 'matrix', 'human', 'people', 'one', 'started', 'war', 'ai', 'bad', 'thing']\n"
          ]
        }
      ]
    },
    {
      "cell_type": "code",
      "source": [
        "# Lemmatize verbs by specifying pos\n",
        "lemmed = [WordNetLemmatizer().lemmatize(w, pos='v') for w in lemmed]\n",
        "print(lemmed)"
      ],
      "metadata": {
        "trusted": true,
        "colab": {
          "base_uri": "https://localhost:8080/",
          "height": 0
        },
        "id": "X1X8XzmM0Nje",
        "outputId": "d211db32-f8be-4d8c-cd95-90f19e36f207"
      },
      "execution_count": 123,
      "outputs": [
        {
          "output_type": "stream",
          "name": "stdout",
          "text": [
            "['first', 'time', 'see', 'second', 'renaissance', 'may', 'look', 'bore', 'look', 'least', 'twice', 'definitely', 'watch', 'part', '2', 'change', 'view', 'matrix', 'human', 'people', 'one', 'start', 'war', 'ai', 'bad', 'thing']\n"
          ]
        }
      ]
    },
    {
      "cell_type": "markdown",
      "source": [
        "![text%20processing.jpg](attachment:text%20processing.jpg)"
      ],
      "metadata": {
        "id": "CI83D4TH0Nje"
      }
    },
    {
      "cell_type": "markdown",
      "source": [
        "# Feature Extraction"
      ],
      "metadata": {
        "id": "-C7mTk9w0Nje"
      }
    },
    {
      "cell_type": "markdown",
      "source": [
        "## Bag of Words and TF-IDF\n",
        "Below, we'll look at three useful methods of vectorizing text.\n",
        "- `CountVectorizer` - Bag of Words\n",
        "- `TfidfTransformer` - TF-IDF values\n",
        "- `TfidfVectorizer` - Bag of Words AND TF-IDF values\n",
        ""
      ],
      "metadata": {
        "id": "LA8VhfE30Nje"
      }
    },
    {
      "cell_type": "code",
      "source": [
        "import re\n",
        "import nltk\n",
        "from nltk.corpus import stopwords\n",
        "from nltk.stem.wordnet import WordNetLemmatizer\n",
        "from nltk.tokenize import word_tokenize\n",
        "\n",
        "nltk.download('punkt')\n",
        "nltk.download('stopwords')\n",
        "nltk.download('wordnet')"
      ],
      "metadata": {
        "trusted": true,
        "colab": {
          "base_uri": "https://localhost:8080/",
          "height": 0
        },
        "id": "TI0Eqsv20Nje",
        "outputId": "42225227-0a87-4d00-8298-7699c69a8663"
      },
      "execution_count": 138,
      "outputs": [
        {
          "output_type": "stream",
          "name": "stderr",
          "text": [
            "[nltk_data] Downloading package punkt to /root/nltk_data...\n",
            "[nltk_data]   Package punkt is already up-to-date!\n",
            "[nltk_data] Downloading package stopwords to /root/nltk_data...\n",
            "[nltk_data]   Package stopwords is already up-to-date!\n",
            "[nltk_data] Downloading package wordnet to /root/nltk_data...\n",
            "[nltk_data]   Package wordnet is already up-to-date!\n"
          ]
        },
        {
          "output_type": "execute_result",
          "data": {
            "text/plain": [
              "True"
            ]
          },
          "metadata": {},
          "execution_count": 138
        }
      ]
    },
    {
      "cell_type": "code",
      "source": [
        "corpus = [\"The first time you see The Second Renaissance it may look boring.\",\n",
        "        \"Look at it at least twice and definitely watch part 2.\",\n",
        "        \"It will change your view of the matrix.\",\n",
        "        \"Are the human people the ones who started the war?\",\n",
        "        \"Is AI a bad thing ?\"]"
      ],
      "metadata": {
        "trusted": true,
        "id": "v2xxHbjd0Nje"
      },
      "execution_count": 139,
      "outputs": []
    },
    {
      "cell_type": "code",
      "source": [
        "stop_words = stopwords.words(\"english\")\n",
        "lemmatizer = WordNetLemmatizer()"
      ],
      "metadata": {
        "trusted": true,
        "id": "1ZFXLYek0Nje"
      },
      "execution_count": 140,
      "outputs": []
    },
    {
      "cell_type": "code",
      "source": [
        "def tokenize(text):\n",
        "    # normalize case and remove punctuation\n",
        "    text = re.sub(r\"[^a-zA-Z0-9]\", \" \", text.lower())\n",
        "\n",
        "    # tokenize text\n",
        "    tokens = word_tokenize(text)\n",
        "\n",
        "    # lemmatize andremove stop words\n",
        "    tokens = [lemmatizer.lemmatize(word) for word in tokens if word not in stop_words]\n",
        "\n",
        "    return tokens"
      ],
      "metadata": {
        "trusted": true,
        "id": "hOpj-nHH0Nje"
      },
      "execution_count": 141,
      "outputs": []
    },
    {
      "cell_type": "markdown",
      "source": [
        "## `CountVectorizer` (Bag of Words)"
      ],
      "metadata": {
        "id": "P93zySKw0Nje"
      }
    },
    {
      "cell_type": "code",
      "source": [
        "from sklearn.feature_extraction.text import CountVectorizer\n",
        "\n",
        "# initialize count vectorizer object\n",
        "vect = CountVectorizer(tokenizer=tokenize)"
      ],
      "metadata": {
        "trusted": true,
        "id": "2FZFNMeE0Nje"
      },
      "execution_count": 142,
      "outputs": []
    },
    {
      "cell_type": "code",
      "source": [
        "# get counts of each token (word) in text data\n",
        "X = vect.fit_transform(corpus)"
      ],
      "metadata": {
        "trusted": true,
        "id": "t3eJCZxt0Nje"
      },
      "execution_count": 143,
      "outputs": []
    },
    {
      "cell_type": "code",
      "source": [
        "# convert sparse matrix to numpy array to view\n",
        "X.toarray()"
      ],
      "metadata": {
        "trusted": true,
        "colab": {
          "base_uri": "https://localhost:8080/",
          "height": 0
        },
        "id": "TA-pTCB30Njf",
        "outputId": "e9db6549-8473-4d45-ab4c-301c6fe8b660"
      },
      "execution_count": 144,
      "outputs": [
        {
          "output_type": "execute_result",
          "data": {
            "text/plain": [
              "array([[0, 0, 0, 1, 0, 0, 1, 0, 0, 1, 0, 1, 0, 0, 0, 1, 1, 1, 0, 0, 1, 0,\n",
              "        0, 0, 0],\n",
              "       [1, 0, 0, 0, 0, 1, 0, 0, 1, 1, 0, 0, 0, 1, 0, 0, 0, 0, 0, 0, 0, 1,\n",
              "        0, 0, 1],\n",
              "       [0, 0, 0, 0, 1, 0, 0, 0, 0, 0, 1, 0, 0, 0, 0, 0, 0, 0, 0, 0, 0, 0,\n",
              "        1, 0, 0],\n",
              "       [0, 0, 0, 0, 0, 0, 0, 1, 0, 0, 0, 0, 1, 0, 1, 0, 0, 0, 1, 0, 0, 0,\n",
              "        0, 1, 0],\n",
              "       [0, 1, 1, 0, 0, 0, 0, 0, 0, 0, 0, 0, 0, 0, 0, 0, 0, 0, 0, 1, 0, 0,\n",
              "        0, 0, 0]])"
            ]
          },
          "metadata": {},
          "execution_count": 144
        }
      ]
    },
    {
      "cell_type": "code",
      "source": [
        "# view token vocabulary and counts\n",
        "vect.vocabulary_"
      ],
      "metadata": {
        "trusted": true,
        "colab": {
          "base_uri": "https://localhost:8080/",
          "height": 0
        },
        "id": "uTKczXUF0Njf",
        "outputId": "bb8e328e-b390-44ca-c049-7823a9379745"
      },
      "execution_count": 145,
      "outputs": [
        {
          "output_type": "execute_result",
          "data": {
            "text/plain": [
              "{'first': 6,\n",
              " 'time': 20,\n",
              " 'see': 17,\n",
              " 'second': 16,\n",
              " 'renaissance': 15,\n",
              " 'may': 11,\n",
              " 'look': 9,\n",
              " 'boring': 3,\n",
              " 'least': 8,\n",
              " 'twice': 21,\n",
              " 'definitely': 5,\n",
              " 'watch': 24,\n",
              " 'part': 13,\n",
              " '2': 0,\n",
              " 'change': 4,\n",
              " 'view': 22,\n",
              " 'matrix': 10,\n",
              " 'human': 7,\n",
              " 'people': 14,\n",
              " 'one': 12,\n",
              " 'started': 18,\n",
              " 'war': 23,\n",
              " 'ai': 1,\n",
              " 'bad': 2,\n",
              " 'thing': 19}"
            ]
          },
          "metadata": {},
          "execution_count": 145
        }
      ]
    },
    {
      "cell_type": "markdown",
      "source": [
        "## `TfidfTransformer`"
      ],
      "metadata": {
        "id": "8kU1y60R0Njf"
      }
    },
    {
      "cell_type": "code",
      "source": [
        "from sklearn.feature_extraction.text import TfidfTransformer\n",
        "\n",
        "# initialize tf-idf transformer object\n",
        "transformer = TfidfTransformer(smooth_idf=False)"
      ],
      "metadata": {
        "trusted": true,
        "id": "Jq-bZZ1m0Njf"
      },
      "execution_count": 146,
      "outputs": []
    },
    {
      "cell_type": "code",
      "source": [
        "# use counts from count vectorizer results to compute tf-idf values\n",
        "tfidf = transformer.fit_transform(X)"
      ],
      "metadata": {
        "trusted": true,
        "id": "ORZ3i1Nb0Njf"
      },
      "execution_count": 147,
      "outputs": []
    },
    {
      "cell_type": "code",
      "source": [
        "# convert sparse matrix to numpy array to view\n",
        "tfidf.toarray()"
      ],
      "metadata": {
        "trusted": true,
        "colab": {
          "base_uri": "https://localhost:8080/",
          "height": 0
        },
        "id": "iJw7Ljgo0Njf",
        "outputId": "3eb7d683-ceb9-454d-a476-81ac27a87d3f"
      },
      "execution_count": 149,
      "outputs": [
        {
          "output_type": "execute_result",
          "data": {
            "text/plain": [
              "array([[0.        , 0.        , 0.        , 0.36419547, 0.        ,\n",
              "        0.        , 0.36419547, 0.        , 0.        , 0.26745392,\n",
              "        0.        , 0.36419547, 0.        , 0.        , 0.        ,\n",
              "        0.36419547, 0.36419547, 0.36419547, 0.        , 0.        ,\n",
              "        0.36419547, 0.        , 0.        , 0.        , 0.        ],\n",
              "       [0.39105193, 0.        , 0.        , 0.        , 0.        ,\n",
              "        0.39105193, 0.        , 0.        , 0.39105193, 0.28717648,\n",
              "        0.        , 0.        , 0.        , 0.39105193, 0.        ,\n",
              "        0.        , 0.        , 0.        , 0.        , 0.        ,\n",
              "        0.        , 0.39105193, 0.        , 0.        , 0.39105193],\n",
              "       [0.        , 0.        , 0.        , 0.        , 0.57735027,\n",
              "        0.        , 0.        , 0.        , 0.        , 0.        ,\n",
              "        0.57735027, 0.        , 0.        , 0.        , 0.        ,\n",
              "        0.        , 0.        , 0.        , 0.        , 0.        ,\n",
              "        0.        , 0.        , 0.57735027, 0.        , 0.        ],\n",
              "       [0.        , 0.        , 0.        , 0.        , 0.        ,\n",
              "        0.        , 0.        , 0.4472136 , 0.        , 0.        ,\n",
              "        0.        , 0.        , 0.4472136 , 0.        , 0.4472136 ,\n",
              "        0.        , 0.        , 0.        , 0.4472136 , 0.        ,\n",
              "        0.        , 0.        , 0.        , 0.4472136 , 0.        ],\n",
              "       [0.        , 0.57735027, 0.57735027, 0.        , 0.        ,\n",
              "        0.        , 0.        , 0.        , 0.        , 0.        ,\n",
              "        0.        , 0.        , 0.        , 0.        , 0.        ,\n",
              "        0.        , 0.        , 0.        , 0.        , 0.57735027,\n",
              "        0.        , 0.        , 0.        , 0.        , 0.        ]])"
            ]
          },
          "metadata": {},
          "execution_count": 149
        }
      ]
    },
    {
      "cell_type": "markdown",
      "source": [
        "## `TfidfVectorizer`\n",
        "`TfidfVectorizer` = `CountVectorizer` + `TfidfTransformer`"
      ],
      "metadata": {
        "id": "thHzJe2X0Njf"
      }
    },
    {
      "cell_type": "code",
      "source": [
        "from sklearn.feature_extraction.text import TfidfVectorizer\n",
        "\n",
        "# initialize tf-idf vectorizer object\n",
        "vectorizer = TfidfVectorizer()"
      ],
      "metadata": {
        "trusted": true,
        "id": "j9AqD0Jn0Njf"
      },
      "execution_count": 135,
      "outputs": []
    },
    {
      "cell_type": "code",
      "source": [
        "# compute bag of word counts and tf-idf values\n",
        "X = vectorizer.fit_transform(corpus)"
      ],
      "metadata": {
        "trusted": true,
        "id": "oKxiyVQC0Njf"
      },
      "execution_count": 136,
      "outputs": []
    },
    {
      "cell_type": "code",
      "source": [
        "# convert sparse matrix to numpy array to view\n",
        "X.toarray()"
      ],
      "metadata": {
        "trusted": true,
        "colab": {
          "base_uri": "https://localhost:8080/",
          "height": 0
        },
        "id": "4B2aU-iR0Njf",
        "outputId": "c09e1832-b516-46ee-931f-d073d22dffdc"
      },
      "execution_count": 150,
      "outputs": [
        {
          "output_type": "execute_result",
          "data": {
            "text/plain": [
              "array([[0, 0, 0, 1, 0, 0, 1, 0, 0, 1, 0, 1, 0, 0, 0, 1, 1, 1, 0, 0, 1, 0,\n",
              "        0, 0, 0],\n",
              "       [1, 0, 0, 0, 0, 1, 0, 0, 1, 1, 0, 0, 0, 1, 0, 0, 0, 0, 0, 0, 0, 1,\n",
              "        0, 0, 1],\n",
              "       [0, 0, 0, 0, 1, 0, 0, 0, 0, 0, 1, 0, 0, 0, 0, 0, 0, 0, 0, 0, 0, 0,\n",
              "        1, 0, 0],\n",
              "       [0, 0, 0, 0, 0, 0, 0, 1, 0, 0, 0, 0, 1, 0, 1, 0, 0, 0, 1, 0, 0, 0,\n",
              "        0, 1, 0],\n",
              "       [0, 1, 1, 0, 0, 0, 0, 0, 0, 0, 0, 0, 0, 0, 0, 0, 0, 0, 0, 1, 0, 0,\n",
              "        0, 0, 0]])"
            ]
          },
          "metadata": {},
          "execution_count": 150
        }
      ]
    },
    {
      "cell_type": "markdown",
      "source": [
        "# Modeling\n",
        "The final stage of the NLP pipeline is modeling, which includes designing a statistical or machine learning model, fitting its parameters to training data, using an optimization procedure, and then using it to make predictions about unseen data.\n",
        "\n",
        "The nice thing about working with numerical features is that it allows you to choose from all machine learning models or even a combination of them.\n",
        "\n",
        "Once you have a working model, you can deploy it as a web app, mobile app, or integrate it with other products and services. The possibilities are endless!"
      ],
      "metadata": {
        "id": "2yL_Hn7l0Njf"
      }
    },
    {
      "cell_type": "code",
      "source": [],
      "metadata": {
        "trusted": true,
        "id": "eUmhfTqQ0Njf"
      },
      "execution_count": 150,
      "outputs": []
    }
  ]
}